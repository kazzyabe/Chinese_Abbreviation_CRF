{
 "cells": [
  {
   "cell_type": "markdown",
   "metadata": {},
   "source": [
    "# NLTK HMM training"
   ]
  },
  {
   "cell_type": "code",
   "execution_count": 1,
   "metadata": {},
   "outputs": [],
   "source": [
    "from nltk.tag import hmm\n",
    "trainer = hmm.HiddenMarkovModelTrainer()"
   ]
  },
  {
   "cell_type": "code",
   "execution_count": 2,
   "metadata": {},
   "outputs": [
    {
     "data": {
      "text/plain": [
       "[[('历', 'N'), ('史', 'A'), ('和', 'N'), ('地', 'A'), ('理', 'N')],\n",
       " [('正', 'A'), ('式', 'N'), ('选', 'A'), ('举', 'N')]]"
      ]
     },
     "execution_count": 2,
     "metadata": {},
     "output_type": "execute_result"
    }
   ],
   "source": [
    "import pickle \n",
    "Tagged_Abb = pickle.load(open('Tagged_tr.p','rb'))\n",
    "Tagged_Abb[:2]"
   ]
  },
  {
   "cell_type": "code",
   "execution_count": 3,
   "metadata": {},
   "outputs": [],
   "source": [
    "tagger = trainer.train_supervised(Tagged_Abb)"
   ]
  },
  {
   "cell_type": "code",
   "execution_count": 3,
   "metadata": {},
   "outputs": [],
   "source": [
    "cleaned_AbbOri = pickle.load(open('Cleaned_AbbOri_te.p','rb'))"
   ]
  },
  {
   "cell_type": "code",
   "execution_count": 4,
   "metadata": {},
   "outputs": [
    {
     "data": {
      "text/plain": [
       "[['受托', '接受委托'],\n",
       " ['发育生物所', '发育生物学研究所'],\n",
       " ['预后', '预测后果'],\n",
       " ['浙昆', '浙江昆剧团'],\n",
       " ['蒙师', '启蒙老师'],\n",
       " ['夜航', '夜间航行'],\n",
       " ['密报', '秘密报告'],\n",
       " ['n', '计划商品经济'],\n",
       " ['亚太经', '亚洲太平洋经济'],\n",
       " ['楼按', '楼宇按揭']]"
      ]
     },
     "execution_count": 4,
     "metadata": {},
     "output_type": "execute_result"
    }
   ],
   "source": [
    "cleaned_AbbOri[90:100]"
   ]
  },
  {
   "cell_type": "code",
   "execution_count": 6,
   "metadata": {},
   "outputs": [],
   "source": [
    "def char_seg(t):\n",
    "    tmp = []\n",
    "    for c in t:\n",
    "        tmp.append(c)\n",
    "    return tmp"
   ]
  },
  {
   "cell_type": "code",
   "execution_count": 7,
   "metadata": {},
   "outputs": [
    {
     "data": {
      "text/plain": [
       "('游', 'N')"
      ]
     },
     "execution_count": 7,
     "metadata": {},
     "output_type": "execute_result"
    }
   ],
   "source": [
    "tagger.tag(char_seg(cleaned_AbbOri[0][1]))[0]"
   ]
  },
  {
   "cell_type": "code",
   "execution_count": 8,
   "metadata": {},
   "outputs": [],
   "source": [
    "Tagged_te = pickle.load(open('Tagged_te.p','rb'))"
   ]
  },
  {
   "cell_type": "code",
   "execution_count": 9,
   "metadata": {},
   "outputs": [
    {
     "data": {
      "text/plain": [
       "('游', 'N')"
      ]
     },
     "execution_count": 9,
     "metadata": {},
     "output_type": "execute_result"
    }
   ],
   "source": [
    "Tagged_te[0][0]"
   ]
  },
  {
   "cell_type": "code",
   "execution_count": 10,
   "metadata": {},
   "outputs": [
    {
     "data": {
      "text/plain": [
       "True"
      ]
     },
     "execution_count": 10,
     "metadata": {},
     "output_type": "execute_result"
    }
   ],
   "source": [
    "Tagged_te[0][0] == tagger.tag(char_seg(cleaned_AbbOri[0][1]))[0]"
   ]
  },
  {
   "cell_type": "code",
   "execution_count": 11,
   "metadata": {},
   "outputs": [],
   "source": [
    "def accuracy(tagger, cleaned, tagged):\n",
    "    correct = 0.0\n",
    "    total = 0.0\n",
    "    for i in range(len(cleaned)):\n",
    "        tag = tagger.tag(char_seg(cleaned[i][1]))\n",
    "        for j in range(len(tag)):\n",
    "            if tag[j] == tagged[i][j]:\n",
    "                correct += 1.0\n",
    "            total += 1.0\n",
    "    return correct/total"
   ]
  },
  {
   "cell_type": "code",
   "execution_count": 12,
   "metadata": {},
   "outputs": [
    {
     "data": {
      "text/plain": [
       "0.7889239737673063"
      ]
     },
     "execution_count": 12,
     "metadata": {},
     "output_type": "execute_result"
    }
   ],
   "source": [
    "# Accuracy on test\n",
    "accuracy(tagger, cleaned_AbbOri, Tagged_te)"
   ]
  },
  {
   "cell_type": "code",
   "execution_count": 13,
   "metadata": {},
   "outputs": [],
   "source": [
    "cleaned_AbbOri_tr = pickle.load(open('Cleaned_AbbOri_tr.p','rb'))\n",
    "Tagged_tr = pickle.load(open('Tagged_tr.p','rb'))"
   ]
  },
  {
   "cell_type": "code",
   "execution_count": 14,
   "metadata": {},
   "outputs": [
    {
     "data": {
      "text/plain": [
       "0.8021255537750966"
      ]
     },
     "execution_count": 14,
     "metadata": {},
     "output_type": "execute_result"
    }
   ],
   "source": [
    "# Accuracy on train\n",
    "accuracy(tagger, cleaned_AbbOri_tr, Tagged_tr)"
   ]
  },
  {
   "cell_type": "code",
   "execution_count": 15,
   "metadata": {},
   "outputs": [],
   "source": [
    "def result(tagger, cleaned):\n",
    "    ress = []\n",
    "    for c in cleaned:\n",
    "        tag = tagger.tag(char_seg(c[1]))\n",
    "        res = ''\n",
    "        for t in tag:\n",
    "            if t[1] == 'A':\n",
    "                res+=t[0]\n",
    "        c.append(res)\n",
    "        ress.append(c)\n",
    "    return ress"
   ]
  },
  {
   "cell_type": "code",
   "execution_count": 16,
   "metadata": {},
   "outputs": [],
   "source": [
    "res_te = result(tagger, cleaned_AbbOri)"
   ]
  },
  {
   "cell_type": "code",
   "execution_count": 17,
   "metadata": {},
   "outputs": [],
   "source": [
    "res_tr = result(tagger, cleaned_AbbOri_tr)"
   ]
  },
  {
   "cell_type": "code",
   "execution_count": 18,
   "metadata": {},
   "outputs": [
    {
     "data": {
      "text/plain": [
       "[['史地', '历史和地理', '史'], ['正选', '正式选举', '正选'], ['营运', '营业运行', '营运']]"
      ]
     },
     "execution_count": 18,
     "metadata": {},
     "output_type": "execute_result"
    }
   ],
   "source": [
    "res_tr[:3]"
   ]
  },
  {
   "cell_type": "code",
   "execution_count": 19,
   "metadata": {},
   "outputs": [],
   "source": [
    "pickle.dump(res_tr, open('res_tr.p', 'wb'))\n",
    "pickle.dump(res_te, open('res_te.p', 'wb'))"
   ]
  },
  {
   "cell_type": "code",
   "execution_count": null,
   "metadata": {},
   "outputs": [],
   "source": []
  }
 ],
 "metadata": {
  "kernelspec": {
   "display_name": "Python 3",
   "language": "python",
   "name": "python3"
  },
  "language_info": {
   "codemirror_mode": {
    "name": "ipython",
    "version": 3
   },
   "file_extension": ".py",
   "mimetype": "text/x-python",
   "name": "python",
   "nbconvert_exporter": "python",
   "pygments_lexer": "ipython3",
   "version": "3.8.3"
  }
 },
 "nbformat": 4,
 "nbformat_minor": 4
}
