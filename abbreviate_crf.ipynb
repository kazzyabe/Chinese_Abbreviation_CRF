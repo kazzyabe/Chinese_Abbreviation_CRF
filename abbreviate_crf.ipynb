{
 "cells": [
  {
   "cell_type": "markdown",
   "metadata": {},
   "source": [
    "## Tokenization"
   ]
  },
  {
   "cell_type": "code",
   "execution_count": 1,
   "metadata": {},
   "outputs": [],
   "source": [
    "import transformers\n",
    "from transformers import BertModel, BertTokenizer, AdamW, get_linear_schedule_with_warmup, AutoTokenizer\n",
    "import torch"
   ]
  },
  {
   "cell_type": "code",
   "execution_count": 2,
   "metadata": {},
   "outputs": [],
   "source": [
    "PRE_TRAINED_MODEL_NAME = \"bert-base-chinese\"\n",
    "tokenizer = AutoTokenizer.from_pretrained(PRE_TRAINED_MODEL_NAME)"
   ]
  },
  {
   "cell_type": "code",
   "execution_count": 3,
   "metadata": {},
   "outputs": [],
   "source": [
    "example = \"合作委员会\"\n",
    "tokens = tokenizer.tokenize(example)"
   ]
  },
  {
   "cell_type": "code",
   "execution_count": 4,
   "metadata": {},
   "outputs": [
    {
     "data": {
      "text/plain": [
       "['合', '作', '委', '员', '会']"
      ]
     },
     "execution_count": 4,
     "metadata": {},
     "output_type": "execute_result"
    }
   ],
   "source": [
    "tokens"
   ]
  },
  {
   "cell_type": "code",
   "execution_count": 5,
   "metadata": {},
   "outputs": [
    {
     "data": {
      "text/plain": [
       "[('合作', 'verb'), ('委员会', 'noun')]"
      ]
     },
     "execution_count": 5,
     "metadata": {},
     "output_type": "execute_result"
    }
   ],
   "source": [
    "import pynlpir as pp\n",
    "pp.open()\n",
    "example = \"合作委员会\"\n",
    "\n",
    "pp.segment(example)"
   ]
  },
  {
   "cell_type": "code",
   "execution_count": 6,
   "metadata": {},
   "outputs": [],
   "source": [
    "word = '历史和地理'"
   ]
  },
  {
   "cell_type": "code",
   "execution_count": 7,
   "metadata": {},
   "outputs": [
    {
     "data": {
      "text/plain": [
       "[('历史', 'noun'), ('和', 'conjunction'), ('地理', 'noun')]"
      ]
     },
     "execution_count": 7,
     "metadata": {},
     "output_type": "execute_result"
    }
   ],
   "source": [
    "segmented = pp.segment(word)\n",
    "segmented"
   ]
  },
  {
   "cell_type": "code",
   "execution_count": 8,
   "metadata": {},
   "outputs": [
    {
     "name": "stdout",
     "output_type": "stream",
     "text": [
      "0\n",
      "1\n",
      "2\n"
     ]
    },
    {
     "data": {
      "text/plain": [
       "{0: {'ini': 0, 'end': 2}, 1: {'ini': 2, 'end': 3}, 2: {'ini': 3, 'end': 5}}"
      ]
     },
     "execution_count": 8,
     "metadata": {},
     "output_type": "execute_result"
    }
   ],
   "source": [
    "seg_ind = {}\n",
    "for i in range(len(segmented)):\n",
    "    print(i)\n",
    "    if i==0:\n",
    "        seg_ind[i] = {'ini': 0,'end':len(segmented[i][0])}\n",
    "    else:\n",
    "        ini = seg_ind[i-1]['end']\n",
    "        seg_ind[i] = {'ini':ini,'end':ini+len(segmented[i][0])}\n",
    "seg_ind"
   ]
  },
  {
   "cell_type": "markdown",
   "metadata": {},
   "source": [
    "# CRF"
   ]
  },
  {
   "cell_type": "code",
   "execution_count": 9,
   "metadata": {},
   "outputs": [],
   "source": [
    "def seg2dict(segmented):\n",
    "    seg_ind = {}\n",
    "    for i in range(len(segmented)):\n",
    "        if i==0:\n",
    "            seg_ind[i] = {'ini': 0,'end':len(segmented[i][0])}\n",
    "        else:\n",
    "            ini = seg_ind[i-1]['end']\n",
    "            seg_ind[i] = {'ini':ini,'end':ini+len(segmented[i][0])}\n",
    "    return seg_ind"
   ]
  },
  {
   "cell_type": "code",
   "execution_count": 10,
   "metadata": {},
   "outputs": [],
   "source": [
    "def char2features(word, i):\n",
    "    '''\n",
    "    word: whole word\n",
    "    i: index of character\n",
    "    \n",
    "    return features\n",
    "        where features is a dictionary containing:\n",
    "            char: target character\n",
    "    '''\n",
    "    segmented = pp.segment(word)\n",
    "    seg_ind = seg2dict(segmented)\n",
    "    \n",
    "#     print(word)\n",
    "#     print(seg_ind, i)\n",
    "    \n",
    "    \n",
    "    for k in seg_ind.keys():\n",
    "        end = seg_ind[k]['end']\n",
    "        if i < end:\n",
    "            seg_word = segmented[k][0]\n",
    "            ini = seg_ind[k]['ini']\n",
    "            posInSeg = i - ini\n",
    "            POS_seg = segmented[k][1]\n",
    "            break\n",
    "    \n",
    "    if i >= end:\n",
    "        seg_end = end\n",
    "        seg_word = word[seg_end:]\n",
    "        posInSeg = i - seg_end\n",
    "        POS_seg = \"noun\"\n",
    "    \n",
    "    features = {\n",
    "        'bias': 1.0,\n",
    "        'char': word[i],\n",
    "        'i': i,\n",
    "        'word length': len(word),\n",
    "        'segment': seg_word,\n",
    "        'position in seg': posInSeg,\n",
    "        'POS of seg': POS_seg\n",
    "        \n",
    "    }\n",
    "    \n",
    "    # previous char info\n",
    "    if i > 0:\n",
    "        features['Prev'] = word[i-1]\n",
    "        if i > 1:\n",
    "            features['Prev2'] = word[i-2]\n",
    "        else:\n",
    "            features['Prev2'] = \"None\"\n",
    "    else:\n",
    "        features.update({\n",
    "            'Prev': \"None\",\n",
    "            'Prev2': \"None\"\n",
    "        })\n",
    "    \n",
    "    # post char info\n",
    "    if i < len(word)-1:\n",
    "        features['Post'] = word[i+1]\n",
    "        if i < len(word)-2:\n",
    "            features['Post2'] = word[i+2]\n",
    "        else:\n",
    "            features['Post2'] = \"None\"\n",
    "    else:\n",
    "        features.update({\n",
    "            'Post': \"None\",\n",
    "            'Post2': \"None\"\n",
    "        })\n",
    "        \n",
    "    return features"
   ]
  },
  {
   "cell_type": "code",
   "execution_count": 11,
   "metadata": {},
   "outputs": [],
   "source": [
    "# char2features(example, 2)"
   ]
  },
  {
   "cell_type": "code",
   "execution_count": 12,
   "metadata": {},
   "outputs": [],
   "source": [
    "def word2features(word):\n",
    "    return [char2features(word, i) for i in range(len(word))]"
   ]
  },
  {
   "cell_type": "markdown",
   "metadata": {},
   "source": [
    "## Creating dataset"
   ]
  },
  {
   "cell_type": "code",
   "execution_count": 13,
   "metadata": {},
   "outputs": [],
   "source": [
    "import pickle\n",
    "cleaned_AbbOri = pickle.load(open('Cleaned_AbbOri_tr.p','rb'))\n",
    "Tagged_Abb = pickle.load(open('Tagged_tr.p','rb'))"
   ]
  },
  {
   "cell_type": "code",
   "execution_count": 14,
   "metadata": {},
   "outputs": [
    {
     "data": {
      "text/plain": [
       "[['史地', '历史和地理'],\n",
       " ['正选', '正式选举'],\n",
       " ['营运', '营业运行'],\n",
       " ['n', '尼亚加拉瀑布'],\n",
       " ['粮播', '粮食播种']]"
      ]
     },
     "execution_count": 14,
     "metadata": {},
     "output_type": "execute_result"
    }
   ],
   "source": [
    "cleaned_AbbOri[0:5]"
   ]
  },
  {
   "cell_type": "code",
   "execution_count": 15,
   "metadata": {},
   "outputs": [],
   "source": [
    "# Tagged_Abb[0:5]"
   ]
  },
  {
   "cell_type": "code",
   "execution_count": 16,
   "metadata": {},
   "outputs": [],
   "source": [
    "x_train = [ word2features(word) for _, word in cleaned_AbbOri]"
   ]
  },
  {
   "cell_type": "code",
   "execution_count": 17,
   "metadata": {},
   "outputs": [],
   "source": [
    "# x_train[0]"
   ]
  },
  {
   "cell_type": "code",
   "execution_count": 18,
   "metadata": {},
   "outputs": [],
   "source": [
    "def word2label(word):\n",
    "    return [l for _, l in word]"
   ]
  },
  {
   "cell_type": "code",
   "execution_count": 19,
   "metadata": {},
   "outputs": [
    {
     "data": {
      "text/plain": [
       "['N', 'A', 'N', 'A', 'N']"
      ]
     },
     "execution_count": 19,
     "metadata": {},
     "output_type": "execute_result"
    }
   ],
   "source": [
    "y_train = [word2label(word) for word in Tagged_Abb]\n",
    "y_train[0]"
   ]
  },
  {
   "cell_type": "code",
   "execution_count": 20,
   "metadata": {},
   "outputs": [],
   "source": [
    "cleaned_AbbOri_te = pickle.load(open('Cleaned_AbbOri_te.p','rb'))\n",
    "Tagged_Abb_te = pickle.load(open('Tagged_te.p','rb'))\n",
    "x_test = [word2features(word) for _, word in cleaned_AbbOri_te]\n",
    "y_test = [word2label(word) for word in Tagged_Abb_te]"
   ]
  },
  {
   "cell_type": "code",
   "execution_count": 21,
   "metadata": {},
   "outputs": [],
   "source": [
    "# x_test[0]"
   ]
  },
  {
   "cell_type": "code",
   "execution_count": 22,
   "metadata": {},
   "outputs": [],
   "source": [
    "# y_test[0]"
   ]
  },
  {
   "cell_type": "code",
   "execution_count": 23,
   "metadata": {},
   "outputs": [],
   "source": [
    "# Tagged_Abb_te[0]"
   ]
  },
  {
   "cell_type": "code",
   "execution_count": 24,
   "metadata": {},
   "outputs": [],
   "source": [
    "pickle.dump(x_train, open(\"x_train_crf.p\", \"wb\"))\n",
    "pickle.dump(y_train, open(\"y_train_crf.p\", \"wb\"))\n",
    "pickle.dump(x_test, open(\"x_test_crf.p\", \"wb\"))\n",
    "pickle.dump(y_test, open(\"y_test_crf.p\", \"wb\"))"
   ]
  },
  {
   "cell_type": "markdown",
   "metadata": {},
   "source": [
    "# Training and Evaluate"
   ]
  },
  {
   "cell_type": "code",
   "execution_count": 25,
   "metadata": {},
   "outputs": [
    {
     "name": "stderr",
     "output_type": "stream",
     "text": [
      "/Users/kazuyabe/.pyenv/versions/3.8.3/lib/python3.8/site-packages/sklearn/base.py:209: FutureWarning: From version 0.24, get_params will raise an AttributeError if a parameter cannot be retrieved as an instance attribute. Previously it would return None.\n",
      "  warnings.warn('From version 0.24, get_params will raise an '\n"
     ]
    },
    {
     "data": {
      "text/plain": [
       "CRF(algorithm='lbfgs', all_possible_transitions=True, c1=0.1, c2=0.1,\n",
       "    keep_tempfiles=None, max_iterations=100)"
      ]
     },
     "execution_count": 25,
     "metadata": {},
     "output_type": "execute_result"
    }
   ],
   "source": [
    "import sklearn_crfsuite\n",
    "\n",
    "crf = sklearn_crfsuite.CRF(\n",
    "    algorithm='lbfgs',\n",
    "    c1=0.1,\n",
    "    c2=0.1,\n",
    "    max_iterations=100,\n",
    "    all_possible_transitions=True\n",
    ")\n",
    "crf.fit(x_train, y_train)"
   ]
  },
  {
   "cell_type": "code",
   "execution_count": 26,
   "metadata": {},
   "outputs": [
    {
     "data": {
      "text/plain": [
       "['N', 'A']"
      ]
     },
     "execution_count": 26,
     "metadata": {},
     "output_type": "execute_result"
    }
   ],
   "source": [
    "labels = list(crf.classes_)\n",
    "labels"
   ]
  },
  {
   "cell_type": "code",
   "execution_count": 27,
   "metadata": {},
   "outputs": [],
   "source": [
    "from sklearn_crfsuite import scorers\n",
    "from sklearn_crfsuite import metrics"
   ]
  },
  {
   "cell_type": "code",
   "execution_count": 28,
   "metadata": {},
   "outputs": [
    {
     "data": {
      "text/plain": [
       "0.8295970856006005"
      ]
     },
     "execution_count": 28,
     "metadata": {},
     "output_type": "execute_result"
    }
   ],
   "source": [
    "y_pred = crf.predict(x_test)\n",
    "metrics.flat_f1_score(y_test, y_pred,\n",
    "                      average='weighted', labels=labels)"
   ]
  },
  {
   "cell_type": "code",
   "execution_count": 29,
   "metadata": {},
   "outputs": [],
   "source": [
    "# y_pred"
   ]
  },
  {
   "cell_type": "code",
   "execution_count": 30,
   "metadata": {},
   "outputs": [],
   "source": [
    "# y_test"
   ]
  },
  {
   "cell_type": "code",
   "execution_count": 31,
   "metadata": {},
   "outputs": [
    {
     "data": {
      "text/plain": [
       "0.9246451700059085"
      ]
     },
     "execution_count": 31,
     "metadata": {},
     "output_type": "execute_result"
    }
   ],
   "source": [
    "y_pred = crf.predict(x_train)\n",
    "metrics.flat_f1_score(y_train, y_pred,\n",
    "                      average='weighted', labels=labels)"
   ]
  },
  {
   "cell_type": "code",
   "execution_count": null,
   "metadata": {},
   "outputs": [],
   "source": []
  }
 ],
 "metadata": {
  "kernelspec": {
   "display_name": "Python 3",
   "language": "python",
   "name": "python3"
  },
  "language_info": {
   "codemirror_mode": {
    "name": "ipython",
    "version": 3
   },
   "file_extension": ".py",
   "mimetype": "text/x-python",
   "name": "python",
   "nbconvert_exporter": "python",
   "pygments_lexer": "ipython3",
   "version": "3.8.3"
  }
 },
 "nbformat": 4,
 "nbformat_minor": 4
}
